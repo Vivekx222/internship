{
 "cells": [
  {
   "cell_type": "markdown",
   "id": "6d7672f8",
   "metadata": {},
   "source": [
    "Q1"
   ]
  },
  {
   "cell_type": "code",
   "execution_count": 1,
   "id": "8fe9f0ba",
   "metadata": {},
   "outputs": [
    {
     "name": "stdout",
     "output_type": "stream",
     "text": [
      "Python:Exercises::PHP:exercises:\n"
     ]
    }
   ],
   "source": [
    "import re\n",
    "data = 'Python Exercises, PHP exercises.'\n",
    "result = (re.sub(\"[ ,.]\", \":\", data))\n",
    "print(result)"
   ]
  },
  {
   "cell_type": "markdown",
   "id": "0d6f5709",
   "metadata": {},
   "source": [
    "Q2"
   ]
  },
  {
   "cell_type": "code",
   "execution_count": 2,
   "id": "c7328cd5",
   "metadata": {},
   "outputs": [
    {
     "name": "stdout",
     "output_type": "stream",
     "text": [
      "0    hello world\n",
      "1           test\n",
      "2  four five six\n"
     ]
    }
   ],
   "source": [
    "import pandas as pd\n",
    "\n",
    "data = {'SUMMARY': ['hello, world!', 'XXXXX test', '123four, five:; six...']}\n",
    "\n",
    "corrected_data = [Data.replace('XXXXX', '').replace(',', '').replace('!', '').replace(';', '').replace(':', '').replace('.', '').replace('123', '').strip() for Data in data['SUMMARY']]\n",
    "\n",
    "df = pd.DataFrame(corrected_data)\n",
    "\n",
    "print(df.to_string(index=True, header=False))"
   ]
  },
  {
   "cell_type": "markdown",
   "id": "a189bd9d",
   "metadata": {},
   "source": [
    "Q3"
   ]
  },
  {
   "cell_type": "code",
   "execution_count": 3,
   "id": "56078bc9",
   "metadata": {},
   "outputs": [
    {
     "name": "stdout",
     "output_type": "stream",
     "text": [
      "['love', 'programming', 'specially', 'Python', 'recently', 'started', 'learn', 'through', 'DataTrained']\n"
     ]
    }
   ],
   "source": [
    "def find_four_or_more(text):\n",
    "    pattern = re.compile(r'\\b\\w{4,}\\b')\n",
    "    long_words = pattern.findall(text)\n",
    "    return long_words\n",
    "\n",
    "data = 'I love programming, specially in Python. I recently started to learn it through DataTrained'\n",
    "result = find_four_or_more(data)\n",
    "print(result)"
   ]
  },
  {
   "cell_type": "markdown",
   "id": "e2482cdc",
   "metadata": {},
   "source": [
    "Q4"
   ]
  },
  {
   "cell_type": "code",
   "execution_count": 4,
   "id": "e90821b1",
   "metadata": {},
   "outputs": [
    {
     "name": "stdout",
     "output_type": "stream",
     "text": [
      "['love', 'learn', 'Data']\n"
     ]
    }
   ],
   "source": [
    "def find_three_four_five(text):\n",
    "    pattern = re.compile(r'\\b\\w{3,5}\\b')\n",
    "    output = pattern.findall(text)\n",
    "    return output\n",
    "\n",
    "data = 'I love programming, specially in Python. I recently started to learn it through Data Trained'\n",
    "result = find_three_four_five(data)\n",
    "print(result)"
   ]
  },
  {
   "cell_type": "markdown",
   "id": "470bce54",
   "metadata": {},
   "source": [
    "Q5"
   ]
  },
  {
   "cell_type": "code",
   "execution_count": 5,
   "id": "58b8a409",
   "metadata": {},
   "outputs": [
    {
     "name": "stdout",
     "output_type": "stream",
     "text": [
      "['example .com', 'hr@fliprobo .com', 'github .com', 'Hello Data Science World', 'Data Scientist']\n"
     ]
    }
   ],
   "source": [
    "def remove(strings):\n",
    "    pattern = re.compile(r'[()]')\n",
    "    result = [pattern.sub('', s) for s in strings]\n",
    "    return result\n",
    "\n",
    "data = [\"example (.com)\", \"hr@fliprobo (.com)\", \"github (.com)\", \"Hello (Data Science World)\", \"Data (Scientist)\"]\n",
    "output = remove(data)\n",
    "print(output)"
   ]
  },
  {
   "cell_type": "markdown",
   "id": "bc3242d4",
   "metadata": {},
   "source": [
    "Q6"
   ]
  },
  {
   "cell_type": "code",
   "execution_count": 6,
   "id": "d4bcdeeb",
   "metadata": {},
   "outputs": [
    {
     "name": "stdout",
     "output_type": "stream",
     "text": [
      "[\"example\", \"hr@fliprobo\", \"github\", \"Hello\", \"Data\"]\n"
     ]
    }
   ],
   "source": [
    "with open('D:/Study/Question6.txt', 'r') as file:\n",
    "    text = file.read()\n",
    "\n",
    "result = re.sub(r'\\s*\\([^)]*\\)', '', text)\n",
    "\n",
    "print(result)"
   ]
  },
  {
   "cell_type": "markdown",
   "id": "6fd71a0e",
   "metadata": {},
   "source": [
    "Q7"
   ]
  },
  {
   "cell_type": "code",
   "execution_count": 7,
   "id": "c0f9a2b4",
   "metadata": {},
   "outputs": [
    {
     "name": "stdout",
     "output_type": "stream",
     "text": [
      "['Importance', 'Of', 'Regular', 'Expressions', 'In', 'Python']\n"
     ]
    }
   ],
   "source": [
    "data=\"ImportanceOfRegularExpressionsInPython\"\n",
    "result=re.findall('[A-Z][a-z]*', data)\n",
    "\n",
    "print(result)"
   ]
  },
  {
   "cell_type": "markdown",
   "id": "eb76f46e",
   "metadata": {},
   "source": [
    "Q8"
   ]
  },
  {
   "cell_type": "code",
   "execution_count": 8,
   "id": "9720f7b3",
   "metadata": {},
   "outputs": [
    {
     "name": "stdout",
     "output_type": "stream",
     "text": [
      "RegularExpression1 IsAn2 ImportantTopic3 InPython\n"
     ]
    }
   ],
   "source": [
    "def add_spaces(text):\n",
    "    updated = re.sub(r'(\\d)([A-Za-z])', r'\\1 \\2', text)\n",
    "    return updated\n",
    "\n",
    "data = \"RegularExpression1IsAn2ImportantTopic3InPython\"\n",
    "result = add_spaces(data)\n",
    "print(result)"
   ]
  },
  {
   "cell_type": "markdown",
   "id": "9b4b64a7",
   "metadata": {},
   "source": [
    "Q9"
   ]
  },
  {
   "cell_type": "code",
   "execution_count": 9,
   "id": "57a10db9",
   "metadata": {},
   "outputs": [
    {
     "name": "stdout",
     "output_type": "stream",
     "text": [
      "Regular Expression 1 Is An 2 Important Topic 3 In Python\n"
     ]
    }
   ],
   "source": [
    "def add_spaces(text):\n",
    "    updated = re.sub(r'(?<=[a-z])(?=[A-Z0-9])|(?<=[0-9])(?=[A-Z])', ' ', text)\n",
    "    return updated\n",
    "\n",
    "data = \"RegularExpression1IsAn2ImportantTopic3InPython\"\n",
    "\n",
    "result = add_spaces(data)\n",
    "print(result)"
   ]
  },
  {
   "cell_type": "markdown",
   "id": "c4bdae9c",
   "metadata": {},
   "source": [
    "Q10"
   ]
  },
  {
   "cell_type": "code",
   "execution_count": 10,
   "id": "7f48dd7a",
   "metadata": {},
   "outputs": [
    {
     "name": "stdout",
     "output_type": "stream",
     "text": [
      "Original DataFrame:\n",
      "       Country          Region  Happiness Rank  Happiness Score  \\\n",
      "0  Switzerland  Western Europe               1            7.587   \n",
      "1      Iceland  Western Europe               2            7.561   \n",
      "2      Denmark  Western Europe               3            7.527   \n",
      "3       Norway  Western Europe               4            7.522   \n",
      "4       Canada   North America               5            7.427   \n",
      "\n",
      "   Standard Error  Economy (GDP per Capita)   Family  \\\n",
      "0         0.03411                   1.39651  1.34951   \n",
      "1         0.04884                   1.30232  1.40223   \n",
      "2         0.03328                   1.32548  1.36058   \n",
      "3         0.03880                   1.45900  1.33095   \n",
      "4         0.03553                   1.32629  1.32261   \n",
      "\n",
      "   Health (Life Expectancy)  Freedom  Trust (Government Corruption)  \\\n",
      "0                   0.94143  0.66557                        0.41978   \n",
      "1                   0.94784  0.62877                        0.14145   \n",
      "2                   0.87464  0.64938                        0.48357   \n",
      "3                   0.88521  0.66973                        0.36503   \n",
      "4                   0.90563  0.63297                        0.32957   \n",
      "\n",
      "   Generosity  Dystopia Residual  \n",
      "0     0.29678            2.51738  \n",
      "1     0.43630            2.70201  \n",
      "2     0.34139            2.49204  \n",
      "3     0.34699            2.46531  \n",
      "4     0.45811            2.45176  \n",
      "\n",
      "DataFrame with 'first_five_letters' column:\n",
      "       Country          Region  Happiness Rank  Happiness Score  \\\n",
      "0  Switzerland  Western Europe               1            7.587   \n",
      "1      Iceland  Western Europe               2            7.561   \n",
      "2      Denmark  Western Europe               3            7.527   \n",
      "3       Norway  Western Europe               4            7.522   \n",
      "4       Canada   North America               5            7.427   \n",
      "\n",
      "   Standard Error  Economy (GDP per Capita)   Family  \\\n",
      "0         0.03411                   1.39651  1.34951   \n",
      "1         0.04884                   1.30232  1.40223   \n",
      "2         0.03328                   1.32548  1.36058   \n",
      "3         0.03880                   1.45900  1.33095   \n",
      "4         0.03553                   1.32629  1.32261   \n",
      "\n",
      "   Health (Life Expectancy)  Freedom  Trust (Government Corruption)  \\\n",
      "0                   0.94143  0.66557                        0.41978   \n",
      "1                   0.94784  0.62877                        0.14145   \n",
      "2                   0.87464  0.64938                        0.48357   \n",
      "3                   0.88521  0.66973                        0.36503   \n",
      "4                   0.90563  0.63297                        0.32957   \n",
      "\n",
      "   Generosity  Dystopia Residual first_five_letters  \n",
      "0     0.29678            2.51738             Switze  \n",
      "1     0.43630            2.70201             Icelan  \n",
      "2     0.34139            2.49204             Denmar  \n",
      "3     0.34699            2.46531             Norway  \n",
      "4     0.45811            2.45176             Canada  \n"
     ]
    }
   ],
   "source": [
    "url = 'https://raw.githubusercontent.com/dsrscientist/DSData/master/happiness_score_dataset.csv'\n",
    "data = pd.read_csv(url)\n",
    "\n",
    "print(\"Original DataFrame:\")\n",
    "print(data.head())\n",
    "\n",
    "data['first_five_letters'] = data['Country'].str[:6]\n",
    "\n",
    "print(\"\\nDataFrame with 'first_five_letters' column:\")\n",
    "print(data.head())"
   ]
  },
  {
   "cell_type": "markdown",
   "id": "ec47764c",
   "metadata": {},
   "source": [
    "Q11"
   ]
  },
  {
   "cell_type": "code",
   "execution_count": 11,
   "id": "fecd5672",
   "metadata": {},
   "outputs": [
    {
     "name": "stdout",
     "output_type": "stream",
     "text": [
      "String matches the pattern\n",
      "String does not match the pattern\n"
     ]
    }
   ],
   "source": [
    "def match_string(string):\n",
    "    pattern = r'^[a-zA-Z0-9_]+$'\n",
    "    if re.match(pattern, string):\n",
    "        print(\"String matches the pattern\")\n",
    "    else:\n",
    "        print(\"String does not match the pattern\")\n",
    "\n",
    "match_string(\"I_am_learning_Python3\")\n",
    "match_string(\"Regular Expression\")"
   ]
  },
  {
   "cell_type": "markdown",
   "id": "f2f7a8ad",
   "metadata": {},
   "source": [
    "Q12"
   ]
  },
  {
   "cell_type": "code",
   "execution_count": 12,
   "id": "55d6862e",
   "metadata": {},
   "outputs": [
    {
     "name": "stdout",
     "output_type": "stream",
     "text": [
      "string starts with the specific number\n"
     ]
    }
   ],
   "source": [
    "def check_number(data, number):\n",
    "    if data.startswith(str(number)):\n",
    "        return True\n",
    "    else:\n",
    "        return False\n",
    "\n",
    "data = \"987654\"\n",
    "number = 98\n",
    "\n",
    "if check_number(data, number):\n",
    "    print(\"string starts with the specific number\")\n",
    "else:\n",
    "    print(\"string does not start with the specific number\")"
   ]
  },
  {
   "cell_type": "markdown",
   "id": "89cf47f6",
   "metadata": {},
   "source": [
    "Q13"
   ]
  },
  {
   "cell_type": "code",
   "execution_count": 13,
   "id": "c3afac07",
   "metadata": {},
   "outputs": [
    {
     "name": "stdout",
     "output_type": "stream",
     "text": [
      "192.168.2.2\n"
     ]
    }
   ],
   "source": [
    "ip = \"192.168.02.02\"\n",
    "data = re.sub('\\.[0]*', '.', ip)\n",
    "print(data)"
   ]
  },
  {
   "cell_type": "markdown",
   "id": "af88e061",
   "metadata": {},
   "source": [
    "Q14"
   ]
  },
  {
   "cell_type": "code",
   "execution_count": 14,
   "id": "fb6c2c9f",
   "metadata": {},
   "outputs": [
    {
     "name": "stdout",
     "output_type": "stream",
     "text": [
      "August 15th 1947\n"
     ]
    }
   ],
   "source": [
    "with open('D:/Study/Question14.txt') as file:\n",
    "    text = file.read()\n",
    "\n",
    "pattern = r'\\b(?:January|February|March|April|May|June|July|August|September|October|November|December)\\s+\\d{1,2}(?:st|nd|rd|th)?\\s+\\d{4}\\b'\n",
    "\n",
    "matches = re.findall(pattern, text)\n",
    "\n",
    "for match in matches:\n",
    "    print(match)"
   ]
  },
  {
   "cell_type": "markdown",
   "id": "36564f07",
   "metadata": {},
   "source": [
    "Q15"
   ]
  },
  {
   "cell_type": "code",
   "execution_count": 15,
   "id": "6808d645",
   "metadata": {},
   "outputs": [
    {
     "name": "stdout",
     "output_type": "stream",
     "text": [
      "<re.Match object; span=(16, 19), match='fox'>\n",
      "<re.Match object; span=(40, 43), match='dog'>\n",
      "None\n"
     ]
    }
   ],
   "source": [
    "data = ['The quick brown fox jumps over the lazy dog.']\n",
    "\n",
    "for word in data:\n",
    "    search = re.search('fox', word)\n",
    "    print (search)\n",
    "    search = re.search('dog', word)\n",
    "    print (search)\n",
    "    search = re.search('horse', word)\n",
    "    print (search)"
   ]
  },
  {
   "cell_type": "markdown",
   "id": "db29fafb",
   "metadata": {},
   "source": [
    "Q16"
   ]
  },
  {
   "cell_type": "code",
   "execution_count": 16,
   "id": "f5b837dc",
   "metadata": {},
   "outputs": [
    {
     "name": "stdout",
     "output_type": "stream",
     "text": [
      "Pattern 'fox' found at index: 16 - 19\n"
     ]
    }
   ],
   "source": [
    "data = ['The quick brown fox jumps over the lazy dog.']\n",
    "\n",
    "for word in data:\n",
    "    search = re.search('fox', word)\n",
    "    if search:\n",
    "        print(\"Pattern 'fox' found at index:\", search.start(), \"-\", search.end())"
   ]
  },
  {
   "cell_type": "markdown",
   "id": "a8431293",
   "metadata": {},
   "source": [
    "Q17"
   ]
  },
  {
   "cell_type": "code",
   "execution_count": 17,
   "id": "024beb67",
   "metadata": {},
   "outputs": [
    {
     "name": "stdout",
     "output_type": "stream",
     "text": [
      "['exercises', 'exercises', 'exercises']\n"
     ]
    }
   ],
   "source": [
    "data = 'Python exercises, PHP exercises, C# exercises'\n",
    "\n",
    "result = re.findall('exercises', data)\n",
    "\n",
    "print(result)"
   ]
  },
  {
   "cell_type": "markdown",
   "id": "2b2736eb",
   "metadata": {},
   "source": [
    "Q18"
   ]
  },
  {
   "cell_type": "code",
   "execution_count": 18,
   "id": "4bc0a5a3",
   "metadata": {},
   "outputs": [
    {
     "name": "stdout",
     "output_type": "stream",
     "text": [
      "[(7, 16), (22, 31), (36, 45)]\n"
     ]
    }
   ],
   "source": [
    "data = 'Python exercises, PHP exercises, C# exercises'\n",
    "\n",
    "matches = [(match.start(), match.end()) for match in re.finditer('exercises', data)]\n",
    "\n",
    "print(matches)"
   ]
  },
  {
   "cell_type": "markdown",
   "id": "4fedd2a3",
   "metadata": {},
   "source": [
    "Q19"
   ]
  },
  {
   "cell_type": "code",
   "execution_count": 19,
   "id": "ae142629",
   "metadata": {},
   "outputs": [
    {
     "name": "stdout",
     "output_type": "stream",
     "text": [
      "10-12-2023\n"
     ]
    }
   ],
   "source": [
    "from datetime import datetime\n",
    "\n",
    "date_ymd = '2023-12-10'\n",
    "\n",
    "old = datetime.strptime(date_ymd, '%Y-%m-%d')\n",
    "\n",
    "new = old.strftime('%d-%m-%Y')\n",
    "\n",
    "print(new)"
   ]
  },
  {
   "cell_type": "markdown",
   "id": "18ad97ed",
   "metadata": {},
   "source": [
    "Q20"
   ]
  },
  {
   "cell_type": "code",
   "execution_count": 20,
   "id": "fc2ccda0",
   "metadata": {},
   "outputs": [
    {
     "name": "stdout",
     "output_type": "stream",
     "text": [
      "['01.12', '145.8', '3.01', '27.25', '0.25']\n"
     ]
    }
   ],
   "source": [
    "def find_decimals(text):\n",
    "    pattern = re.compile(r'\\b\\d+\\.\\d{1,2}\\b')\n",
    "    return pattern.findall(text)\n",
    "\n",
    "data = \"01.12 0132.123 2.31875 145.8 3.01 27.25 0.25\"\n",
    "result = find_decimals(data)\n",
    "print(result)"
   ]
  },
  {
   "cell_type": "markdown",
   "id": "245afbd2",
   "metadata": {},
   "source": [
    "Q21"
   ]
  },
  {
   "cell_type": "code",
   "execution_count": 21,
   "id": "3fcfaa28",
   "metadata": {},
   "outputs": [
    {
     "name": "stdout",
     "output_type": "stream",
     "text": [
      "Numbers:Positions= {'20': 5, '12': 8}\n"
     ]
    }
   ],
   "source": [
    "def separate_words(text):\n",
    "    words = text.split()\n",
    "    positions = {}\n",
    "\n",
    "    for word in words:\n",
    "        if word.isdigit():\n",
    "            positions[word] = words.index(word)\n",
    "\n",
    "    print(\"Numbers:Positions=\", positions)\n",
    "\n",
    "data = \"in this village, there are 20 cows and 12 bulls\"\n",
    "separate_words(data)"
   ]
  },
  {
   "cell_type": "markdown",
   "id": "488a9227",
   "metadata": {},
   "source": [
    "Q22"
   ]
  },
  {
   "cell_type": "code",
   "execution_count": 22,
   "id": "a9bfc66e",
   "metadata": {},
   "outputs": [
    {
     "name": "stdout",
     "output_type": "stream",
     "text": [
      "950\n"
     ]
    }
   ],
   "source": [
    "data = 'My marks in each semester are: 947, 896, 926, 524, 734, 950, 642'\n",
    "\n",
    "numeric_values = max(map(int, re.findall(r'\\b\\d+\\b', data)))\n",
    "print(numeric_values)"
   ]
  },
  {
   "cell_type": "markdown",
   "id": "43d02ddf",
   "metadata": {},
   "source": [
    "Q23"
   ]
  },
  {
   "cell_type": "code",
   "execution_count": 23,
   "id": "fa21d51d",
   "metadata": {},
   "outputs": [
    {
     "name": "stdout",
     "output_type": "stream",
     "text": [
      "Regular Expression Is An Important Topic In Python\n"
     ]
    }
   ],
   "source": [
    "def insert_spaces(text):\n",
    "    updated_text = re.sub(r'(?<!\\b)(?=[A-Z])', ' ', text)\n",
    "    return updated_text\n",
    "\n",
    "data = \"RegularExpressionIsAnImportantTopicInPython\"\n",
    "result = insert_spaces(data)\n",
    "print(result)"
   ]
  },
  {
   "cell_type": "markdown",
   "id": "7f1f4ca1",
   "metadata": {},
   "source": [
    "Q24"
   ]
  },
  {
   "cell_type": "code",
   "execution_count": 24,
   "id": "2e1d0355",
   "metadata": {},
   "outputs": [
    {
     "name": "stdout",
     "output_type": "stream",
     "text": [
      "['Regular', 'Expression', 'Important', 'Topic', 'Python']\n"
     ]
    }
   ],
   "source": [
    "data = \"Regular Expression is an Important Topic in Python\"\n",
    "\n",
    "pattern = r'\\b[A-Z][a-z]+\\b'\n",
    "\n",
    "result = re.findall(pattern, data)\n",
    "print(result)"
   ]
  },
  {
   "cell_type": "markdown",
   "id": "9f113512",
   "metadata": {},
   "source": [
    "Q25"
   ]
  },
  {
   "cell_type": "code",
   "execution_count": 25,
   "id": "a07c5c80",
   "metadata": {},
   "outputs": [
    {
     "name": "stdout",
     "output_type": "stream",
     "text": [
      "Hello hello world\n"
     ]
    }
   ],
   "source": [
    "def remove_duplicate(sentence):\n",
    "    pattern = r'\\b([A-Za-z]+)(?:\\s+\\1\\b)+'\n",
    "    return re.sub(pattern, r'\\1', sentence)\n",
    "\n",
    "data = \"Hello hello world world\"\n",
    "result = remove_duplicate(data)\n",
    "print(result)"
   ]
  },
  {
   "cell_type": "markdown",
   "id": "14e2b66a",
   "metadata": {},
   "source": [
    "Q26"
   ]
  },
  {
   "cell_type": "code",
   "execution_count": 26,
   "id": "7ebf43e2",
   "metadata": {},
   "outputs": [
    {
     "name": "stdout",
     "output_type": "stream",
     "text": [
      "True\n",
      "False\n"
     ]
    }
   ],
   "source": [
    "data = [\"Regular Expression Is An Important Topic In Python\", \n",
    "        \"I love programming, specially in Python$\"]\n",
    "\n",
    "def check_data(data):\n",
    "    pattern = r\"\\w$\"\n",
    "    match = re.search(pattern, data)\n",
    "    if match:\n",
    "        return True\n",
    "    else:\n",
    "        return False\n",
    "    \n",
    "for item in data:\n",
    "    print(check_data(item))"
   ]
  },
  {
   "cell_type": "markdown",
   "id": "ad59490b",
   "metadata": {},
   "source": [
    "Q27"
   ]
  },
  {
   "cell_type": "code",
   "execution_count": 27,
   "id": "2aa0115a",
   "metadata": {},
   "outputs": [
    {
     "name": "stdout",
     "output_type": "stream",
     "text": [
      "['#Doltiwal', '#xyzabc', '#Demonetization']\n"
     ]
    }
   ],
   "source": [
    "data = \"\"\"RT @kapil_kausik: #Doltiwal I mean #xyzabc is \"hurt\" by #Demonetization as the same has rendered USELESS <ed><U+00A0><U+00BD><ed><U+00B1><U+0089> \"acquired funds\" No wo\"\"\"\n",
    "\n",
    "hashtags = re.findall(r'#\\w+', data)\n",
    "print(hashtags)"
   ]
  },
  {
   "cell_type": "markdown",
   "id": "a8841a94",
   "metadata": {},
   "source": [
    "Q28"
   ]
  },
  {
   "cell_type": "code",
   "execution_count": 28,
   "id": "8e17566b",
   "metadata": {},
   "outputs": [
    {
     "name": "stdout",
     "output_type": "stream",
     "text": [
      "@Jags123456 Bharat band on 28??<ed><ed>Those who  are protesting #demonetization  are all different party leaders\n"
     ]
    }
   ],
   "source": [
    "data = \"@Jags123456 Bharat band on 28??<ed><U+00A0><U+00BD><ed><U+00B8><U+0082>Those who  are protesting #demonetization  are all different party leaders\"\n",
    "\n",
    "result = re.sub(r'<U\\+[0-9A-Fa-f]+>', '', data)\n",
    "print(result)"
   ]
  },
  {
   "cell_type": "markdown",
   "id": "e48378d2",
   "metadata": {},
   "source": [
    "Q29"
   ]
  },
  {
   "cell_type": "code",
   "execution_count": 29,
   "id": "96b0fc0d",
   "metadata": {},
   "outputs": [
    {
     "name": "stdout",
     "output_type": "stream",
     "text": [
      "['12-09-1992', '15-12-1999']\n"
     ]
    }
   ],
   "source": [
    "with open('D:/Study/Question29.txt', 'r') as file:\n",
    "    text = file.read()\n",
    "\n",
    "dates = re.findall(r'\\b\\d{2}-\\d{2}-\\d{4}\\b', text)\n",
    "print(dates)"
   ]
  },
  {
   "cell_type": "markdown",
   "id": "96a6f529",
   "metadata": {},
   "source": [
    "Q30"
   ]
  },
  {
   "cell_type": "code",
   "execution_count": 30,
   "id": "cc2bc95e",
   "metadata": {},
   "outputs": [
    {
     "name": "stdout",
     "output_type": "stream",
     "text": [
      " following example creates  ArrayList  a capacity   elements. 4 elements   added   ArrayList   ArrayList  trimmed accordingly.\n"
     ]
    }
   ],
   "source": [
    "def remove_words(text):\n",
    "    pattern = re.compile(r'\\b\\w{2,4}\\b')\n",
    "    return pattern.sub('', text)\n",
    "\n",
    "data = \"The following example creates an ArrayList with a capacity of 50 elements. 4 elements are then added to the ArrayList and the ArrayList is trimmed accordingly.\"\n",
    "\n",
    "result = remove_words(data)\n",
    "print(result)"
   ]
  }
 ],
 "metadata": {
  "kernelspec": {
   "display_name": "Python 3 (ipykernel)",
   "language": "python",
   "name": "python3"
  },
  "language_info": {
   "codemirror_mode": {
    "name": "ipython",
    "version": 3
   },
   "file_extension": ".py",
   "mimetype": "text/x-python",
   "name": "python",
   "nbconvert_exporter": "python",
   "pygments_lexer": "ipython3",
   "version": "3.11.5"
  }
 },
 "nbformat": 4,
 "nbformat_minor": 5
}
